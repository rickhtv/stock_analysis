{
 "cells": [
  {
   "cell_type": "markdown",
   "metadata": {},
   "source": [
    "Stock Analysis \n",
    "\n",
    "(Based on yfinance project: https://pypi.org/project/yfinance/) \n",
    "\n",
    "- Single Stock Analysis \n",
    "- Comparison of two stocks \n",
    "- Comparison of multiple stocks and returns "
   ]
  },
  {
   "cell_type": "code",
   "execution_count": 150,
   "metadata": {},
   "outputs": [],
   "source": [
    "#Library imports \n",
    "import pandas as pd \n",
    "import yfinance as yf\n",
    "import matplotlib.pyplot as plt \n",
    "from datetime import date\n"
   ]
  },
  {
   "cell_type": "markdown",
   "metadata": {},
   "source": [
    "Analysis of Single Stock \n",
    "-  Information about the stock \n",
    "- Graph of price evolution \n",
    "- Check returns based on purchase and period"
   ]
  },
  {
   "cell_type": "code",
   "execution_count": 185,
   "metadata": {},
   "outputs": [],
   "source": [
    "#Checking a single stock data\n",
    "ticker = \"AZUL4.SA\"\n",
    "stock = yf.Ticker(ticker)\n",
    "\n"
   ]
  },
  {
   "cell_type": "code",
   "execution_count": 6,
   "metadata": {},
   "outputs": [],
   "source": [
    "#stock info \n",
    "stock.info "
   ]
  },
  {
   "cell_type": "code",
   "execution_count": 186,
   "metadata": {},
   "outputs": [
    {
     "data": {
      "text/html": [
       "<div>\n",
       "<style scoped>\n",
       "    .dataframe tbody tr th:only-of-type {\n",
       "        vertical-align: middle;\n",
       "    }\n",
       "\n",
       "    .dataframe tbody tr th {\n",
       "        vertical-align: top;\n",
       "    }\n",
       "\n",
       "    .dataframe thead th {\n",
       "        text-align: right;\n",
       "    }\n",
       "</style>\n",
       "<table border=\"1\" class=\"dataframe\">\n",
       "  <thead>\n",
       "    <tr style=\"text-align: right;\">\n",
       "      <th></th>\n",
       "      <th>Date</th>\n",
       "      <th>Open</th>\n",
       "      <th>High</th>\n",
       "      <th>Low</th>\n",
       "      <th>Close</th>\n",
       "      <th>Volume</th>\n",
       "      <th>Dividends</th>\n",
       "      <th>Stock Splits</th>\n",
       "    </tr>\n",
       "  </thead>\n",
       "  <tbody>\n",
       "    <tr>\n",
       "      <th>0</th>\n",
       "      <td>2017-04-11</td>\n",
       "      <td>21.809999</td>\n",
       "      <td>22.980000</td>\n",
       "      <td>21.770000</td>\n",
       "      <td>22.400000</td>\n",
       "      <td>13060500</td>\n",
       "      <td>0</td>\n",
       "      <td>0</td>\n",
       "    </tr>\n",
       "    <tr>\n",
       "      <th>1</th>\n",
       "      <td>2017-04-12</td>\n",
       "      <td>22.450001</td>\n",
       "      <td>22.990000</td>\n",
       "      <td>22.299999</td>\n",
       "      <td>22.959999</td>\n",
       "      <td>1745900</td>\n",
       "      <td>0</td>\n",
       "      <td>0</td>\n",
       "    </tr>\n",
       "    <tr>\n",
       "      <th>2</th>\n",
       "      <td>2017-04-13</td>\n",
       "      <td>22.969999</td>\n",
       "      <td>23.010000</td>\n",
       "      <td>22.549999</td>\n",
       "      <td>22.990000</td>\n",
       "      <td>549600</td>\n",
       "      <td>0</td>\n",
       "      <td>0</td>\n",
       "    </tr>\n",
       "    <tr>\n",
       "      <th>3</th>\n",
       "      <td>2017-04-17</td>\n",
       "      <td>23.000000</td>\n",
       "      <td>23.000000</td>\n",
       "      <td>22.620001</td>\n",
       "      <td>22.850000</td>\n",
       "      <td>249300</td>\n",
       "      <td>0</td>\n",
       "      <td>0</td>\n",
       "    </tr>\n",
       "    <tr>\n",
       "      <th>4</th>\n",
       "      <td>2017-04-18</td>\n",
       "      <td>22.820000</td>\n",
       "      <td>24.790001</td>\n",
       "      <td>22.600000</td>\n",
       "      <td>23.910000</td>\n",
       "      <td>1125100</td>\n",
       "      <td>0</td>\n",
       "      <td>0</td>\n",
       "    </tr>\n",
       "  </tbody>\n",
       "</table>\n",
       "</div>"
      ],
      "text/plain": [
       "        Date       Open       High        Low      Close    Volume  Dividends  \\\n",
       "0 2017-04-11  21.809999  22.980000  21.770000  22.400000  13060500          0   \n",
       "1 2017-04-12  22.450001  22.990000  22.299999  22.959999   1745900          0   \n",
       "2 2017-04-13  22.969999  23.010000  22.549999  22.990000    549600          0   \n",
       "3 2017-04-17  23.000000  23.000000  22.620001  22.850000    249300          0   \n",
       "4 2017-04-18  22.820000  24.790001  22.600000  23.910000   1125100          0   \n",
       "\n",
       "   Stock Splits  \n",
       "0             0  \n",
       "1             0  \n",
       "2             0  \n",
       "3             0  \n",
       "4             0  "
      ]
     },
     "execution_count": 186,
     "metadata": {},
     "output_type": "execute_result"
    }
   ],
   "source": [
    "#historical data \n",
    " # valid periods: 1d,5d,1mo,3mo,6mo,1y,2y,5y,10y,ytd,max (Or start= and end=)\n",
    "hist = stock.history(period=\"max\") #returns maximum periods to be later filtered and analysed. \n",
    "hist.reset_index(inplace=True)\n",
    "hist.head()"
   ]
  },
  {
   "cell_type": "code",
   "execution_count": 187,
   "metadata": {},
   "outputs": [
    {
     "data": {
      "image/png": "[encoded data removed]",
      "text/plain": [
       "<Figure size 432x288 with 1 Axes>"
      ]
     },
     "metadata": {
      "needs_background": "light"
     },
     "output_type": "display_data"
    },
    {
     "name": "stdout",
     "output_type": "stream",
     "text": [
      "Highest close date: 2022-02-16 00:00:00 with a value of: 29.29\n",
      "Lowest close date: 2022-07-26 00:00:00 with a value of: 11.07\n"
     ]
    }
   ],
   "source": [
    "#Close price Graph based on date  \n",
    "start_date = '2022-01-01' #Date YYYY-MM-DD\n",
    "end_date = '2022-08-01' #Date  YYYY-MM-DD\n",
    "\n",
    "df = hist[(hist[\"Date\"] >= start_date) & (hist[\"Date\"] <= end_date)]\n",
    "fig = plt.figure()\n",
    "ax1 = fig.add_subplot(1,1,1)\n",
    "ax1.plot(df[\"Date\"],df[\"Close\"],color='r')\n",
    "ax1.set_title(f\"Stock: {ticker} Analysis\")\n",
    "plt.show()\n",
    "\n",
    "#returns the date with the highest and lowest close price. \n",
    "close_max_date = df[df[\"Close\"] == df[\"Close\"].max()][\"Date\"].iloc[0]\n",
    "close_max_value = df[df[\"Close\"] == df[\"Close\"].max()][\"Close\"].iloc[0]\n",
    "close_min_date = df[df[\"Close\"] == df[\"Close\"].min()][\"Date\"].iloc[0]\n",
    "close_min_value = df[df[\"Close\"] == df[\"Close\"].min()][\"Close\"].iloc[0]\n",
    "print(f\"Highest close date: {close_max_date} with a value of: {round(close_max_value,2)}\")\n",
    "print(f\"Lowest close date: {close_min_date} with a value of: {round(close_min_value,2)}\")"
   ]
  },
  {
   "cell_type": "code",
   "execution_count": 183,
   "metadata": {},
   "outputs": [],
   "source": [
    "#Function to calculate the return of investiment based on date \n",
    "\n",
    "def result_of_investment(total_amount_purchased,purchased_value,sold_value):\n",
    "    return (sold_value * total_amount_purchased)/ purchased_value\n",
    "\n",
    "#function to calculate percentage gain or loss \n",
    "def percentage_result(purchased_value,sold_value):\n",
    "    return (sold_value-purchased_value)/purchased_value\n"
   ]
  },
  {
   "cell_type": "code",
   "execution_count": 111,
   "metadata": {},
   "outputs": [
    {
     "name": "stdout",
     "output_type": "stream",
     "text": [
      "Your initial purchase was of: 10000, with a withdrall of: 2549, with a Loss of: -75%\n"
     ]
    }
   ],
   "source": [
    "#Return Analysis (Considering close price not an exact hour)\n",
    "#inform date purchased, date sold and total amount ($) purchased \n",
    "date_purchased = \"2020-01-10\"\n",
    "date_sold = \"2022-06-08\" \n",
    "total_amount_purchased = 10000\n",
    "#-------------------------------------------------------------------\n",
    "#calculations and return \n",
    "try:\n",
    "    purchased_value = hist[hist[\"Date\"] == date_purchased][\"Close\"].iloc[0]\n",
    "    sold_value = hist[hist[\"Date\"] == date_sold][\"Close\"].iloc[0]\n",
    "    result_investiments = result_of_investment(total_amount_purchased,purchased_value,sold_value)\n",
    "    result_percentage = percentage_result(purchased_value,sold_value)\n",
    "    print(f\"Your initial purchase was of: {round(total_amount_purchased,2)}, with a withdrall of: {round(result_investiments,2)}, with a {'Loss' if result_percentage <0 else 'Gain'} of: {round(result_percentage * 100,2)}%\")\n",
    "except:\n",
    "    print(\"No Value avaible for the date informed (Market possible closed)\")"
   ]
  },
  {
   "cell_type": "code",
   "execution_count": 188,
   "metadata": {},
   "outputs": [
    {
     "name": "stdout",
     "output_type": "stream",
     "text": [
      "You investiment today has the following value: 301.74\n",
      "It is a  Loss of: -69.83%\n"
     ]
    }
   ],
   "source": [
    "#Return of the stock today\n",
    "\n",
    "day_purchased = '2022-01-10'\n",
    "total_purchased = 1000\n",
    "#---------------------------------------------\n",
    "today_value = hist[hist[\"Date\"] == hist[\"Date\"].max()][\"Close\"].iloc[0] #Consider last day on the history \n",
    "purchased_value = hist[hist[\"Date\"] == date_purchased][\"Close\"].iloc[0]\n",
    "result_investment = result_of_investment(total_purchased,purchased_value,today_value)\n",
    "result_percentage = percentage_result(purchased_value,today_value)\n",
    "print(f\"You investiment today has the following value: {round(result_investment,2)}\")\n",
    "print(f\"It is a  {'Loss' if result_percentage <0 else 'Gain'} of: {round(result_percentage *100,2)}%\")"
   ]
  },
  {
   "cell_type": "markdown",
   "metadata": {},
   "source": [
    "Comparison of Two Stocks \n",
    "- Information about the stocks \n",
    "- Graph of price evolution between the two stocks  \n",
    "- Check returns based on purchase and period of the two stocks "
   ]
  },
  {
   "cell_type": "code",
   "execution_count": 135,
   "metadata": {},
   "outputs": [
    {
     "name": "stdout",
     "output_type": "stream",
     "text": [
      "        Date      Open      High       Low     Close   Volume  Dividends  \\\n",
      "0 2000-01-03  0.295567  0.295567  0.295567  0.295567  1260000        0.0   \n",
      "1 2000-01-04  0.286700  0.286700  0.286472  0.286472   186666        0.0   \n",
      "2 2000-01-05  0.279652  0.288746  0.272831  0.288746  3640001        0.0   \n",
      "3 2000-01-06  0.227359  0.227359  0.227359  0.227359   140000        0.0   \n",
      "4 2000-01-07  0.227359  0.227359  0.227359  0.227359        0        0.0   \n",
      "\n",
      "   Stock Splits  \n",
      "0           0.0  \n",
      "1           0.0  \n",
      "2           0.0  \n",
      "3           0.0  \n",
      "4           0.0  \n",
      "        Date      Open      High       Low     Close      Volume  Dividends  \\\n",
      "0 2000-01-03  0.503678  0.565628  0.500985  0.536000  10799362.0        0.0   \n",
      "1 2000-01-04  0.517146  0.517146  0.484824  0.484824  12675326.0        0.0   \n",
      "2 2000-01-05  0.487518  0.525226  0.468664  0.525226   9621184.0        0.0   \n",
      "3 2000-01-06  0.522533  0.536000  0.519839  0.533307  24240133.0        0.0   \n",
      "4 2000-01-07  0.538693  0.546774  0.525226  0.530613  11776899.0        0.0   \n",
      "\n",
      "   Stock Splits  \n",
      "0           0.0  \n",
      "1           0.0  \n",
      "2           0.0  \n",
      "3           0.0  \n",
      "4           0.0  \n"
     ]
    }
   ],
   "source": [
    "#Inform both stocks to compare \n",
    "ticker1 = \"ROMI3.SA\" #stock 1 to compare \n",
    "ticker2 = \"ITSA4.SA\" #stock 2 to compare \n",
    "stock1 = yf.Ticker(ticker1)\n",
    "stock2 = yf.Ticker(ticker2)\n",
    "\n",
    "hist1 = stock1.history(period=\"max\") #returns maximum periods to be later filtered and analysed. \n",
    "hist1.reset_index(inplace=True)\n",
    "#hist1.head()\n",
    "\n",
    "hist2 = stock2.history(period=\"max\") #returns maximum periods to be later filtered and analysed. \n",
    "hist2.reset_index(inplace=True)\n",
    "#hist2.head()"
   ]
  },
  {
   "cell_type": "code",
   "execution_count": 134,
   "metadata": {},
   "outputs": [
    {
     "data": {
      "text/plain": [
       "<Figure size 432x288 with 0 Axes>"
      ]
     },
     "metadata": {},
     "output_type": "display_data"
    },
    {
     "data": {
      "image/png": "[encoded data removed]",
      "text/plain": [
       "<Figure size 1440x504 with 2 Axes>"
      ]
     },
     "metadata": {
      "needs_background": "light"
     },
     "output_type": "display_data"
    },
    {
     "name": "stdout",
     "output_type": "stream",
     "text": [
      "The Ticker:ROMI3.SA information:\n",
      "Highest close date: 2022-01-03 00:00:00 with a value of: 16.66\n",
      "Lowest close date: 2022-07-05 00:00:00 with a value of: 11.1\n",
      "The Ticker:ITSA4.SA information:\n",
      "Highest close date: 2022-03-29 00:00:00 with a value of: 10.76\n",
      "Lowest close date: 2022-07-14 00:00:00 with a value of: 8.05\n"
     ]
    }
   ],
   "source": [
    "#Combined Graph of the two stocks \n",
    "start_date = '2022-01-01' #Date YYYY-MM-DD\n",
    "end_date = '2022-08-01' #Date  YYYY-MM-DD\n",
    "\n",
    "df1 = hist1[(hist1[\"Date\"] >= start_date) & (hist1[\"Date\"] <= end_date)]\n",
    "df2 = hist2[(hist2[\"Date\"] >= start_date) & (hist2[\"Date\"] <= end_date)]\n",
    "\n",
    "fig = plt.figure()\n",
    "fig, (ax1, ax2) = plt.subplots(2, sharex=True,sharey=True,figsize=(20,7))\n",
    "\n",
    "ax1.plot(df1[\"Date\"],df1[\"Close\"],color='r')\n",
    "ax1.set_title(f\"Stock: {ticker1} Analysis\")\n",
    "\n",
    "ax2.plot(df2[\"Date\"],df2[\"Close\"],color='b')\n",
    "ax2.set_title(f\"Stock: {ticker2} Analysis\")\n",
    "plt.show()\n",
    "\n",
    "#returns the date with the highest and lowest close price. \n",
    "close_max_date1 = df1[df1[\"Close\"] == df1[\"Close\"].max()][\"Date\"].iloc[0]\n",
    "close_max_value1 = df1[df1[\"Close\"] == df1[\"Close\"].max()][\"Close\"].iloc[0]\n",
    "close_min_date1 = df1[df1[\"Close\"] == df1[\"Close\"].min()][\"Date\"].iloc[0]\n",
    "close_min_value1 = df1[df1[\"Close\"] == df1[\"Close\"].min()][\"Close\"].iloc[0]\n",
    "\n",
    "print(f\"The Ticker:{ticker1} information:\")\n",
    "print(f\"Highest close date: {close_max_date1} with a value of: {round(close_max_value1,2)}\")\n",
    "print(f\"Lowest close date: {close_min_date1} with a value of: {round(close_min_value1,2)}\")\n",
    "\n",
    "close_max_date2 = df2[df2[\"Close\"] == df2[\"Close\"].max()][\"Date\"].iloc[0]\n",
    "close_max_value2 = df2[df2[\"Close\"] == df2[\"Close\"].max()][\"Close\"].iloc[0]\n",
    "close_min_date2 = df2[df2[\"Close\"] == df2[\"Close\"].min()][\"Date\"].iloc[0]\n",
    "close_min_value2 = df2[df2[\"Close\"] == df2[\"Close\"].min()][\"Close\"].iloc[0]\n",
    "\n",
    "print(f\"The Ticker:{ticker2} information:\")\n",
    "print(f\"Highest close date: {close_max_date2} with a value of: {round(close_max_value2,2)}\")\n",
    "print(f\"Lowest close date: {close_min_date2} with a value of: {round(close_min_value2,2)}\")"
   ]
  },
  {
   "cell_type": "code",
   "execution_count": 148,
   "metadata": {},
   "outputs": [
    {
     "name": "stdout",
     "output_type": "stream",
     "text": [
      "Your initial (ROMI3.SA) purchase was of: 10000, with a withdrall of: 25571.82, with a Gain of: 155.72%\n",
      "Your initial purchase (ITSA4.SA) was of: 10000, with a withdrall of: 8608.02, with a Loss of: -13.92%\n",
      "Your initial Investiment was: 20000 with a Gain of: 1.42% resulting in a final total of: 34179.84\n"
     ]
    }
   ],
   "source": [
    "#Compare wallet results for the two stocks for the returns \n",
    "date_purchased_stock1 = \"2019-01-11\"\n",
    "date_sold_stock1 = \"2022-06-10\" \n",
    "total_amount_purchased_stock1 = 10000\n",
    "\n",
    "date_purchased_stock2 = \"2021-01-19\"\n",
    "date_sold_stock2 = \"2022-06-14\" \n",
    "total_amount_purchased_stock2 = 10000\n",
    "\n",
    "#calculations and return for stock1 \n",
    "try:\n",
    "    purchased_value_stock1 = hist1[hist1[\"Date\"] == date_purchased_stock1][\"Close\"].iloc[0]\n",
    "    sold_value_stock1 = hist1[hist1[\"Date\"] == date_sold_stock1][\"Close\"].iloc[0]\n",
    "    result_investiments_stock1 = result_of_investment(total_amount_purchased_stock1,purchased_value_stock1,sold_value_stock1)\n",
    "    result_percentage_stock1 = percentage_result(purchased_value_stock1,sold_value_stock1)\n",
    "    print(f\"Your initial ({ticker1}) purchase was of: {round(total_amount_purchased_stock1,2)}, with a withdrall of: {round(result_investiments_stock1,2)}, with a {'Loss' if result_percentage_stock1 <0 else 'Gain'} of: {round(result_percentage_stock1 * 100,2)}%\")\n",
    "\n",
    "    purchased_value_stock2 = hist2[hist2[\"Date\"] == date_purchased_stock2][\"Close\"].iloc[0]\n",
    "    sold_value_stock2 = hist2[hist2[\"Date\"] == date_sold_stock2][\"Close\"].iloc[0]\n",
    "    result_investiments_stock2 = result_of_investment(total_amount_purchased_stock2,purchased_value_stock2,sold_value_stock2)\n",
    "    result_percentage_stock2 = percentage_result(purchased_value_stock2,sold_value_stock2)\n",
    "    print(f\"Your initial purchase ({ticker2}) was of: {round(total_amount_purchased_stock2,2)}, with a withdrall of: {round(result_investiments_stock2,2)}, with a {'Loss' if result_percentage_stock2 <0 else 'Gain'} of: {round(result_percentage_stock2 * 100,2)}%\")\n",
    "    print(f\"Your initial Investiment was: {round(total_amount_purchased_stock1 + total_amount_purchased_stock2,2)} with a {'Loss' if result_percentage_stock1 + result_percentage_stock2 <0 else 'Gain'} of: {round(result_percentage_stock1 + result_percentage_stock2,2)}% resulting in a final total of: {round(result_investiments_stock1 + result_investiments_stock2,2)}\")\n",
    "except:\n",
    "    print(\"No Value avaible for the date informed (Market possible closed)\")\n"
   ]
  },
  {
   "cell_type": "markdown",
   "metadata": {},
   "source": [
    "Comparison of Multiple Stocks\n",
    "- Information about the stocks \n",
    "- Graph of price evolution between the stocks (gains and losses)\n",
    "- Check returns based on purchase and period of the analyzed stocks "
   ]
  },
  {
   "cell_type": "markdown",
   "metadata": {},
   "source": []
  }
 ],
 "metadata": {
  "kernelspec": {
   "display_name": "Python 3.8.8 ('base')",
   "language": "python",
   "name": "python3"
  },
  "language_info": {
   "codemirror_mode": {
    "name": "ipython",
    "version": 3
   },
   "file_extension": ".py",
   "mimetype": "text/x-python",
   "name": "python",
   "nbconvert_exporter": "python",
   "pygments_lexer": "ipython3",
   "version": "3.8.8"
  },
  "orig_nbformat": 4,
  "vscode": {
   "interpreter": {
    "hash": "32e4382b89f61c5489df34525136ee04848ef2d03fdea9ee93212715295cc80c"
   }
  }
 },
 "nbformat": 4,
 "nbformat_minor": 2
}
